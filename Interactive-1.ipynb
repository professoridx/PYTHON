{
 "cells": [
  {
   "cell_type": "markdown",
   "metadata": {},
   "source": [
    "Connected to Python 3.10.7"
   ]
  },
  {
   "cell_type": "code",
   "execution_count": 1,
   "metadata": {},
   "outputs": [],
   "source": [
    "import turtle\n",
    "import tkinter as TK\n",
    "trtl=turtle.Turtle()\n",
    "trtl.speed(10)\n",
    "for i in range(0,400,20):\n",
    "  trtl.pencolor('lightgrey')\n",
    "  trtl.penup()\n",
    "  trtl.setpos(-200+i,-200)\n",
    "  if i==0:\n",
    "    trtl.left(90)\n",
    "  trtl.pendown()\n",
    "  trtl.forward(400)\n",
    "  trtl.backward(400)\n",
    "for i in range(0,400,20):\n",
    "  trtl.pencolor('lightgrey')\n",
    "  trtl.penup()\n",
    "  trtl.setpos(-200,-200+i)\n",
    "  if i==0:\n",
    "    trtl.right(90)\n",
    "  trtl.pendown()\n",
    "  trtl.forward(400)\n",
    "  trtl.backward(400) \n",
    "trtl.penup()\n",
    "trtl.home()\n",
    "trtl.pendown()\n",
    "trtl.pencolor('black')\n",
    "trtl.backward(200)\n",
    "trtl.forward(400)\n",
    "trtl.backward(200)\n",
    "trtl.left(90)\n",
    "trtl.forward(200)\n",
    "trtl.backward(400)\n",
    "trtl.penup()\n",
    "trtl.setpos(5,5)\n",
    "trtl.pendown()\n",
    "trtl.write(0)\n",
    "trtl.penup()\n",
    "trtl.setpos(190,5)\n",
    "trtl.pendown()\n",
    "trtl.write(\"x\")\n",
    "trtl.penup()\n",
    "trtl.setpos(5,190)\n",
    "trtl.pendown()\n",
    "trtl.write(\"y\")\n",
    "trtl.penup()\n",
    "trtl.setpos(80,-180)\n",
    "trtl.pendown()\n",
    "trtl.write(\"Vivax Solutions\")\n",
    "trtl.ht()"
   ]
  },
  {
   "cell_type": "markdown",
   "metadata": {},
   "source": [
    "_Connecting to base (Python 3.9.16)..._"
   ]
  }
 ],
 "metadata": {
  "kernelspec": {
   "display_name": "Python 3",
   "language": "python",
   "name": "python3"
  },
  "language_info": {
   "codemirror_mode": {
    "name": "ipython",
    "version": 3
   },
   "file_extension": ".py",
   "mimetype": "text/x-python",
   "name": "python",
   "nbconvert_exporter": "python",
   "pygments_lexer": "ipython3",
   "version": "3.9.16"
  }
 },
 "nbformat": 4,
 "nbformat_minor": 2
}
